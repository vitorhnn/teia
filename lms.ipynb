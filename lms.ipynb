{
 "cells": [
  {
   "cell_type": "code",
   "execution_count": 178,
   "metadata": {},
   "outputs": [],
   "source": [
    "from sklearn.base import BaseEstimator\n",
    "import numpy as np\n",
    "\n",
    "class Lms(BaseEstimator):\n",
    "    def __init__(self, analitic=False, alpha=0.1):\n",
    "        self.analitic = analitic\n",
    "        self._trained = False\n",
    "        self._alpha = alpha\n",
    "        self._coefs = np.array([0.0, 0.0])\n",
    "    \n",
    "    def fit(self, X, y=None):\n",
    "        if self.analitic:\n",
    "            return self._analitic_fit(X, y)\n",
    "        return self._gradient_fit(X, y)\n",
    "    \n",
    "    def predict(self, X):\n",
    "        if not self._trained:\n",
    "            raise RuntimeError(\"not trained\")\n",
    "        raise NotImplementedError\n",
    "    \n",
    "    def _analitic_fit(self, X, y):\n",
    "        raise NotImplementedError\n",
    "    \n",
    "    def _squared_error(self, X, Y):\n",
    "        h0 = lambda x: self._coefs[0] + self._coefs[1] * x\n",
    "        return (np.sum(h0(X) - Y) / 2)**2 * len(X)\n",
    "    \n",
    "    def _gradient_fit(self, X, Y):\n",
    "        m = len(X)\n",
    "        converged = False\n",
    "        h0 = lambda x: self._coefs[0] + self._coefs[1] * x\n",
    "        while not converged:\n",
    "            newcoefs = np.array([0.0, 0.0])\n",
    "            \n",
    "            newcoefs[0] = self._coefs[0] - self._alpha * np.sum(h0(X[1:]) - Y[1:]) / m    \n",
    "            newcoefs[1] = self._coefs[1] - self._alpha * np.sum((h0(X[1:]) - Y[1:]) * X[1:]) / m\n",
    "\n",
    "            self._coefs = newcoefs\n",
    "            \n",
    "            err = self._squared_error(X, Y)\n",
    "            if (err < 0.0001):\n",
    "                converged = True\n",
    "        return self\n",
    "        "
   ]
  },
  {
   "cell_type": "code",
   "execution_count": 179,
   "metadata": {},
   "outputs": [],
   "source": [
    "pred = Lms().fit(np.array([1, 2, 3, 4, 5, 6]), np.array([1, 2, 3, 4, 5, 6]))"
   ]
  },
  {
   "cell_type": "code",
   "execution_count": 180,
   "metadata": {},
   "outputs": [
    {
     "data": {
      "text/plain": [
       "array([0.19580354, 0.94436225])"
      ]
     },
     "execution_count": 180,
     "metadata": {},
     "output_type": "execute_result"
    }
   ],
   "source": [
    "pred._coefs"
   ]
  },
  {
   "cell_type": "code",
   "execution_count": null,
   "metadata": {},
   "outputs": [],
   "source": []
  }
 ],
 "metadata": {
  "kernelspec": {
   "display_name": "Python 3",
   "language": "python",
   "name": "python3"
  },
  "language_info": {
   "codemirror_mode": {
    "name": "ipython",
    "version": 3
   },
   "file_extension": ".py",
   "mimetype": "text/x-python",
   "name": "python",
   "nbconvert_exporter": "python",
   "pygments_lexer": "ipython3",
   "version": "3.7.2"
  }
 },
 "nbformat": 4,
 "nbformat_minor": 2
}
