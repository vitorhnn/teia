{
 "cells": [
  {
   "cell_type": "code",
   "execution_count": 29,
   "metadata": {},
   "outputs": [],
   "source": [
    "from sklearn.base import BaseEstimator\n",
    "import numpy as np\n",
    "\n",
    "class Lms(BaseEstimator):\n",
    "    def __init__(self, analitic=False, alpha=0.1, maxerr=0.01):\n",
    "        self.analitic = analitic\n",
    "        self._trained = False\n",
    "        self._alpha = alpha\n",
    "        self._iterations = 0\n",
    "        self._maxerror = maxerr\n",
    "    \n",
    "    def fit(self, X, y):\n",
    "        self._coefs = np.ones(X.shape[1])\n",
    "        if self.analitic:\n",
    "            return self._analitic_fit(X, y)\n",
    "        return self._gradient_fit(X, y)\n",
    "    \n",
    "    def predict(self, X):\n",
    "        if not self._trained:\n",
    "            raise RuntimeError(\"not trained\")\n",
    "        return self.h(X)\n",
    "\n",
    "    \n",
    "    def _analitic_fit(self, X, Y):\n",
    "        self._coefs = (2/len(self._coefs)) * np.dot(np.dot(np.linalg.pinv(np.dot(X.T, X)), X.T), Y.T)\n",
    "        self._trained = True\n",
    "        return self\n",
    "    \n",
    "    def h(self, X):\n",
    "        return np.dot(self._coefs, X.T)\n",
    "    \n",
    "    def _squared_error(self, X, Y):\n",
    "        return (1/(2*len(self._coefs))) * np.sum((self.h(X) - Y)**2)\n",
    "   \n",
    "    def _gradient_fit(self, X, Y):\n",
    "        m = len(self._coefs)\n",
    "        converged = False\n",
    "        while not converged:\n",
    "            self._iterations += 1\n",
    "            \n",
    "            self._coefs = self._coefs - (self._alpha / m) * (np.dot(self.h(X) - Y, X))\n",
    "            \n",
    "            err = self._squared_error(X, Y)\n",
    "            if (err < self._maxerror):\n",
    "                converged = True\n",
    "        self._trained = True\n",
    "        return self"
   ]
  },
  {
   "cell_type": "code",
   "execution_count": 30,
   "metadata": {},
   "outputs": [],
   "source": [
    "pred = Lms(analitic=True).fit(np.array([[1, 1], [1, 2], [1, 3]]), np.array([2, 4, 6]))"
   ]
  },
  {
   "cell_type": "code",
   "execution_count": 31,
   "metadata": {},
   "outputs": [
    {
     "data": {
      "text/plain": [
       "array([3.55271368e-15, 2.00000000e+00])"
      ]
     },
     "execution_count": 31,
     "metadata": {},
     "output_type": "execute_result"
    }
   ],
   "source": [
    "pred._coefs"
   ]
  },
  {
   "cell_type": "code",
   "execution_count": 32,
   "metadata": {},
   "outputs": [
    {
     "data": {
      "text/plain": [
       "0"
      ]
     },
     "execution_count": 32,
     "metadata": {},
     "output_type": "execute_result"
    }
   ],
   "source": [
    "pred._iterations"
   ]
  },
  {
   "cell_type": "code",
   "execution_count": null,
   "metadata": {},
   "outputs": [],
   "source": []
  }
 ],
 "metadata": {
  "kernelspec": {
   "display_name": "Python 3",
   "language": "python",
   "name": "python3"
  },
  "language_info": {
   "codemirror_mode": {
    "name": "ipython",
    "version": 3
   },
   "file_extension": ".py",
   "mimetype": "text/x-python",
   "name": "python",
   "nbconvert_exporter": "python",
   "pygments_lexer": "ipython3",
   "version": "3.7.3"
  }
 },
 "nbformat": 4,
 "nbformat_minor": 2
}
